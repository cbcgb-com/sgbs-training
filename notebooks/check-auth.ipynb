{
 "cells": [
  {
   "cell_type": "code",
   "execution_count": 1,
   "metadata": {},
   "outputs": [],
   "source": [
    "%load_ext autoreload\n",
    "%autoreload 2"
   ]
  },
  {
   "cell_type": "code",
   "execution_count": 30,
   "metadata": {},
   "outputs": [],
   "source": [
    "\"\"\"Authenticate to Google Cloud Platform using service account credentials read from environment variables.\"\"\"\n",
    "import os\n",
    "from dotenv import load_dotenv\n",
    "import json\n",
    "import tempfile\n",
    "from contextlib import contextmanager\n",
    "import io \n",
    "\n",
    "load_dotenv()\n",
    "\n",
    "\n",
    "@contextmanager\n",
    "def write_creds():\n",
    "    \"\"\"Write service account credentials to disk based on environment variables.\"\"\"\n",
    "    credentials = os.getenv(\"SGBS_TRAINING_SERVICE_ACCOUNT_JSON\")\n",
    "    fpath = tempfile.NamedTemporaryFile(mode=\"w+\", delete=False)\n",
    "    fpath.write(credentials)\n",
    "    fpath.seek(0)\n",
    "    yield fpath \n",
    "    fpath.close()\n",
    "\n"
   ]
  },
  {
   "cell_type": "code",
   "execution_count": 35,
   "metadata": {},
   "outputs": [],
   "source": [
    "from sgbs_training.docs import create_exercises\n",
    "from sgbs_training.scriptures import John \n",
    "\n",
    "\n",
    "study_questions, study_notes = create_exercises(scripture = John, num_students=14, num_groups=3)\n"
   ]
  },
  {
   "cell_type": "code",
   "execution_count": 40,
   "metadata": {},
   "outputs": [
    {
     "data": {
      "text/plain": [
       "'https://docs.google.com/document/d/1T8XgmjOfxF81lCSd_dRZymaJfndrT8AZ/edit?usp=drivesdk&ouid=112505117973108705292&rtpof=true&sd=true'"
      ]
     },
     "execution_count": 40,
     "metadata": {},
     "output_type": "execute_result"
    }
   ],
   "source": [
    "study_questions[\"alternateLink\"]"
   ]
  }
 ],
 "metadata": {
  "kernelspec": {
   "display_name": "sgbs-training",
   "language": "python",
   "name": "python3"
  },
  "language_info": {
   "codemirror_mode": {
    "name": "ipython",
    "version": 3
   },
   "file_extension": ".py",
   "mimetype": "text/x-python",
   "name": "python",
   "nbconvert_exporter": "python",
   "pygments_lexer": "ipython3",
   "version": "3.11.0"
  },
  "orig_nbformat": 4
 },
 "nbformat": 4,
 "nbformat_minor": 2
}
