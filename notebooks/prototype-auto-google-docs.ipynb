{
 "cells": [
  {
   "cell_type": "code",
   "execution_count": 1,
   "metadata": {},
   "outputs": [],
   "source": [
    "%load_ext autoreload\n",
    "%autoreload 2\n"
   ]
  },
  {
   "attachments": {},
   "cell_type": "markdown",
   "metadata": {},
   "source": [
    "## Final Product"
   ]
  },
  {
   "cell_type": "code",
   "execution_count": 2,
   "metadata": {},
   "outputs": [],
   "source": [
    "from sgbs_training.docs import create_exercises\n",
    "from sgbs_training.scriptures import John, Ephesians\n",
    "\n",
    "scripture = Ephesians\n",
    "questions, notes = create_exercises(scripture, num_students=9, num_groups=2)\n"
   ]
  },
  {
   "cell_type": "code",
   "execution_count": 3,
   "metadata": {},
   "outputs": [
    {
     "data": {
      "text/plain": [
       "'https://docs.google.com/document/d/1Cjmic9-nvVvoqkdLZeJlv9PiFAVwJrj7/edit?usp=drivesdk&ouid=112505117973108705292&rtpof=true&sd=true'"
      ]
     },
     "execution_count": 3,
     "metadata": {},
     "output_type": "execute_result"
    }
   ],
   "source": [
    "questions[\"alternateLink\"]"
   ]
  },
  {
   "cell_type": "code",
   "execution_count": 4,
   "metadata": {},
   "outputs": [
    {
     "data": {
      "text/plain": [
       "'https://docs.google.com/document/d/1ZDsXBENjS-yIiwDMBoe5HCWJSElot0vS/edit?usp=drivesdk&ouid=112505117973108705292&rtpof=true&sd=true'"
      ]
     },
     "execution_count": 4,
     "metadata": {},
     "output_type": "execute_result"
    }
   ],
   "source": [
    "notes[\"alternateLink\"]"
   ]
  },
  {
   "attachments": {},
   "cell_type": "markdown",
   "metadata": {},
   "source": [
    "## Make email based on links above"
   ]
  },
  {
   "cell_type": "code",
   "execution_count": null,
   "metadata": {},
   "outputs": [],
   "source": [
    "from sgbs_training.email import compose_homework_email\n",
    "\n",
    "text = compose_homework_email(scripture, questions, notes)\n"
   ]
  },
  {
   "cell_type": "code",
   "execution_count": null,
   "metadata": {},
   "outputs": [],
   "source": [
    "from markdown import markdown\n",
    "markdown(text)"
   ]
  },
  {
   "cell_type": "code",
   "execution_count": null,
   "metadata": {},
   "outputs": [],
   "source": [
    "from IPython.display import display, HTML\n",
    "\n",
    "display(HTML(markdown(text)))"
   ]
  },
  {
   "attachments": {},
   "cell_type": "markdown",
   "metadata": {},
   "source": [
    "## Prototype Panel app\n"
   ]
  },
  {
   "cell_type": "code",
   "execution_count": null,
   "metadata": {},
   "outputs": [],
   "source": [
    "import panel as pn \n",
    "\n",
    "pn.extension()"
   ]
  },
  {
   "cell_type": "code",
   "execution_count": null,
   "metadata": {},
   "outputs": [],
   "source": [
    "from sgbs_training.scriptures import Luke, John, Ephesians, James\n",
    "scripture_choices = [Luke, John, Ephesians, James]\n",
    "\n",
    "scripture = pn.widgets.Select(name=\"Scripture\", options={s.__name__: s for s in scripture_choices}, )\n",
    "scripture"
   ]
  },
  {
   "cell_type": "code",
   "execution_count": null,
   "metadata": {},
   "outputs": [],
   "source": [
    "num_students = pn.widgets.IntSlider(name='Number of Students', start=1, end=30)\n",
    "num_groups = pn.widgets.IntSlider(name='Number of Groups', start=1, end=10)\n",
    "\n",
    "num_students"
   ]
  },
  {
   "cell_type": "code",
   "execution_count": null,
   "metadata": {},
   "outputs": [],
   "source": [
    "num_groups"
   ]
  },
  {
   "cell_type": "code",
   "execution_count": null,
   "metadata": {},
   "outputs": [],
   "source": [
    "email_html = pn.pane.HTML()\n",
    "email_html"
   ]
  },
  {
   "cell_type": "code",
   "execution_count": null,
   "metadata": {},
   "outputs": [],
   "source": [
    "def write_email(event):\n",
    "    questions, notes = create_exercises(scripture.value, num_students=num_students.value, num_groups=num_groups.value)\n",
    "    text = compose_homework_email(scripture.value, questions, notes)\n",
    "    email_html.object = markdown(text)\n",
    "\n",
    "\n",
    "compose_button = pn.widgets.Button(name=\"Compose\", button_type=\"success\")\n",
    "compose_button.on_click(write_email)\n",
    "compose_button"
   ]
  },
  {
   "cell_type": "code",
   "execution_count": null,
   "metadata": {},
   "outputs": [],
   "source": [
    "pn.Column(scripture, num_groups, num_students, compose_button, email_html).show()"
   ]
  },
  {
   "cell_type": "code",
   "execution_count": null,
   "metadata": {},
   "outputs": [],
   "source": [
    "as;dkfj;asdlkfjas;dlkf"
   ]
  },
  {
   "cell_type": "code",
   "execution_count": null,
   "metadata": {},
   "outputs": [],
   "source": []
  },
  {
   "cell_type": "code",
   "execution_count": null,
   "metadata": {},
   "outputs": [],
   "source": [
    "import httplib2 \n",
    "import os \n",
    "\n",
    "from apiclient import discovery\n",
    "from google.oauth2 import service_account\n"
   ]
  },
  {
   "cell_type": "code",
   "execution_count": null,
   "metadata": {},
   "outputs": [],
   "source": [
    "from pyprojroot import here\n",
    "\n",
    "scopes = [\"https://www.googleapis.com/auth/drive\"]\n",
    "\n",
    "secret_file = here() / \"cbcgb-com-sgbs-training-05e7c406daa3.json\"\n",
    "\n",
    "credentials = service_account.Credentials.from_service_account_file(secret_file, scopes=scopes)\n",
    "service = discovery.build(\"docs\", \"v1\", credentials=credentials)\n",
    "service\n",
    "\n"
   ]
  },
  {
   "cell_type": "code",
   "execution_count": null,
   "metadata": {},
   "outputs": [],
   "source": [
    "# service.files().create()\n"
   ]
  },
  {
   "cell_type": "code",
   "execution_count": null,
   "metadata": {},
   "outputs": [],
   "source": [
    "title = \"Test\"\n",
    "body = {\n",
    "    \"title\": title,\n",
    "}\n",
    "\n",
    "doc = service.documents().create(body=body)\n",
    "\n",
    "doc"
   ]
  },
  {
   "cell_type": "code",
   "execution_count": null,
   "metadata": {},
   "outputs": [],
   "source": [
    "response = doc.execute()\n",
    "response"
   ]
  },
  {
   "cell_type": "code",
   "execution_count": null,
   "metadata": {},
   "outputs": [],
   "source": [
    "doc = service.documents().get(documentId=response[\"documentId\"]).execute()"
   ]
  },
  {
   "cell_type": "code",
   "execution_count": null,
   "metadata": {},
   "outputs": [],
   "source": [
    "doc"
   ]
  },
  {
   "cell_type": "code",
   "execution_count": null,
   "metadata": {},
   "outputs": [],
   "source": [
    "doc"
   ]
  },
  {
   "cell_type": "code",
   "execution_count": null,
   "metadata": {},
   "outputs": [],
   "source": [
    "service = discovery.build(\"drive\", \"v3\", credentials=credentials)\n",
    "service.files().get(fileId=doc[\"documentId\"])"
   ]
  },
  {
   "attachments": {},
   "cell_type": "markdown",
   "metadata": {},
   "source": [
    "### LOOKS LIKE THIS IS ALL WE NEED BELOW!"
   ]
  },
  {
   "cell_type": "code",
   "execution_count": null,
   "metadata": {},
   "outputs": [],
   "source": [
    "from pydrive2.auth import GoogleAuth\n",
    "from pydrive2.drive import GoogleDrive\n",
    "from pydrive2.files import GoogleDriveFile\n",
    "\n",
    "settings = {\n",
    "    \"client_config_backend\": \"service\",\n",
    "    \"service_config\": {\n",
    "        \"client_json_file_path\": secret_file,\n",
    "    }\n",
    "}\n",
    "gauth = GoogleAuth(settings=settings)\n",
    "gauth.ServiceAuth()\n",
    "\n",
    "file = GoogleDriveFile(auth=gauth, metadata={\"id\": doc[\"documentId\"]})\n",
    "\n",
    "file.InsertPermission(\n",
    "    {\"type\": \"anyone\", \"role\": \"writer\", \"value\": \"anyone\"}\n",
    ")\n",
    "file[\"alternateLink\"]\n",
    "\n",
    "# drive = GoogleDrive(auth=gauth)\n",
    "# drive.ListFile({'q': \"'root' in parents and trashed=false\"}).GetList()"
   ]
  },
  {
   "cell_type": "code",
   "execution_count": null,
   "metadata": {},
   "outputs": [],
   "source": [
    "from markdown import Markdown"
   ]
  },
  {
   "cell_type": "code",
   "execution_count": null,
   "metadata": {},
   "outputs": [],
   "source": [
    "from sgbs_training.scriptures import Scripture, Luke, James, John, Ephesians"
   ]
  },
  {
   "cell_type": "code",
   "execution_count": null,
   "metadata": {},
   "outputs": [],
   "source": [
    "from sgbs_training.exercises import study_questions, study_notes \n",
    "\n",
    "text = study_questions(James, 2)\n",
    "# print(text)\n",
    "\n",
    "text = study_notes(James, 8)\n",
    "print(text)"
   ]
  },
  {
   "cell_type": "code",
   "execution_count": null,
   "metadata": {},
   "outputs": [],
   "source": [
    "md = Markdown() \n",
    "md.convert(text)"
   ]
  },
  {
   "cell_type": "code",
   "execution_count": null,
   "metadata": {},
   "outputs": [],
   "source": [
    "# Try creating drive file using pydrive2 \n",
    "from pydrive2.auth import GoogleAuth\n",
    "from pydrive2.drive import GoogleDrive\n",
    "\n",
    "settings = {\n",
    "    \"client_config_backend\": \"service\",\n",
    "    \"service_config\": {\n",
    "        \"client_json_file_path\": secret_file,\n",
    "    }\n",
    "}\n",
    "gauth = GoogleAuth(settings=settings)\n",
    "gauth.ServiceAuth()\n",
    "\n",
    "drive = GoogleDrive(gauth)\n",
    "file = drive.CreateFile({\"title\": \"Test\", \"mimeType\": \"application/vnd.openxmlformats-officedocument.wordprocessingml.document\"})\n",
    "file.SetContentString(md.convert(text))\n",
    "file.Upload()\n",
    "file.InsertPermission(\n",
    "    {\"type\": \"anyone\", \"role\": \"writer\", \"value\": \"anyone\"}\n",
    ")\n"
   ]
  },
  {
   "cell_type": "code",
   "execution_count": null,
   "metadata": {},
   "outputs": [],
   "source": [
    "file[\"alternateLink\"]"
   ]
  },
  {
   "cell_type": "code",
   "execution_count": null,
   "metadata": {},
   "outputs": [],
   "source": []
  }
 ],
 "metadata": {
  "kernelspec": {
   "display_name": "sgbs-training",
   "language": "python",
   "name": "python3"
  },
  "language_info": {
   "codemirror_mode": {
    "name": "ipython",
    "version": 3
   },
   "file_extension": ".py",
   "mimetype": "text/x-python",
   "name": "python",
   "nbconvert_exporter": "python",
   "pygments_lexer": "ipython3",
   "version": "3.11.0"
  },
  "orig_nbformat": 4,
  "vscode": {
   "interpreter": {
    "hash": "54555cc544231d0f638f8a0e808866a48129ef5c0e496efdef5747c6ae20dbd1"
   }
  }
 },
 "nbformat": 4,
 "nbformat_minor": 2
}
